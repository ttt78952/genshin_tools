{
 "cells": [
  {
   "cell_type": "code",
   "execution_count": 1,
   "metadata": {},
   "outputs": [],
   "source": [
    "from numpy import random\n",
    "import matplotlib.pyplot as plt"
   ]
  },
  {
   "cell_type": "code",
   "execution_count": 2,
   "metadata": {},
   "outputs": [],
   "source": [
    "# 固定参数 -- 请勿编辑\n",
    "# 数据来自： 探讨圣遗物主副词条的分布规律(https://bbs.nga.cn/read.php?tid=25247146)\n",
    "\n",
    "# 套装掉落概率 -- 平分\n",
    "\n",
    "# 部件掉落概率 -- 平分\n",
    "part_names = ['flower', 'plume', 'sand', 'goblet', 'criclet']\n",
    "\n",
    "# 所需套装每件圣遗物体力价值, 每20体力产出1.067737金圣遗物, 所需套装要乘2\n",
    "# 圣遗物掉落模型 (https://bbs.nga.cn/read.php?tid=25367618)\n",
    "cost = 20*2/1.067737\n",
    "\n",
    "# 初始三词条、四次条比例(来自： https://bbs.nga.cn/read.php?tid=25123729)\n",
    "initial_features = {'3': 0.83, '4': 0.17} \n",
    "\n",
    "# 生之花\n",
    "# main fixed\n",
    "flower_sub = {'atk': 0.1579, 'def': 0.1579, 'hp_per': 0.1053, 'atk_per': 0.1053, 'def_per':0.1053, \n",
    "              'energy_recharge': 0.1053, 'ele_mastery': 0.1053, 'crit_rate': 0.0789, 'crit_dmg': 0.0789}\n",
    "\n",
    "# 死之羽\n",
    "# main fixed\n",
    "plume_sub = {'hp': 0.1579, 'def': 0.1579, 'hp_per': 0.1053, 'atk_per': 0.1053, 'def_per':0.1053, \n",
    "              'energy_recharge': 0.1053, 'ele_mastery': 0.1053, 'crit_rate': 0.0789, 'crit_dmg': 0.0789}\n",
    "\n",
    "# 时之沙\n",
    "sand_main = {'hp_per': 0.2667, 'atk_per': 0.2667, 'def_per': 0.2667, 'energy_recharge': 0.1000, 'ele_mastery': 0.1000}\n",
    "sand_sub = {'hp': 0.15, 'atk': 0.15, 'def': 0.15, 'hp_per': 0.10, 'atk_per': 0.10, 'def_per':0.10, \n",
    "              'energy_recharge': 0.10, 'ele_mastery': 0.10, 'crit_rate': 0.075, 'crit_dmg': 0.075}\n",
    "\n",
    "# 空之杯\n",
    "goblet_main = {'ele_dmg': 0.05, 'others': 0.95} # others do not count\n",
    "goblet_sub = {'hp': 0.1364, 'atk': 0.1364, 'def': 0.1364, 'hp_per': 0.0909, 'atk_per': 0.0909, 'def_per':0.0909, \n",
    "              'energy_recharge': 0.0909, 'ele_mastery': 0.0909, 'crit_rate': 0.0682, 'crit_dmg': 0.0682}\n",
    "\n",
    "# 理之冠\n",
    "criclet_main = {'crit_rate': 0.1, 'crit_dmg': 0.1, 'others': 0.8} # others do not count\n",
    "criclet_sub = {'hp': 0.1463, 'atk': 0.1463, 'def': 0.1463, 'hp_per': 0.0976, 'atk_per': 0.0976, 'def_per':0.0976, \n",
    "              'energy_recharge': 0.0976, 'ele_mastery': 0.0976, 'crit_rate': 0.0732, 'crit_dmg': 0.0732}\n",
    "\n",
    "part_distributions = {'flower_sub': flower_sub, 'plume_sub': plume_sub, 'sand_main': sand_main, 'sand_sub': sand_sub, \n",
    "                     'goblet_main': goblet_main, 'goblet_sub': goblet_sub, 'criclet_main': criclet_main, 'criclet_sub': criclet_sub}"
   ]
  },
  {
   "cell_type": "code",
   "execution_count": 3,
   "metadata": {},
   "outputs": [],
   "source": [
    "# 随机掉落一个圣遗物, 并计算词条数\n",
    "def draw_arifact(output = False):\n",
    "    # 确定部位\n",
    "    part_type = random.choice(part_names)\n",
    "    \n",
    "    # 确定主属性\n",
    "    part_main = 'default'\n",
    "    part_type_main = part_type + '_main'\n",
    "    if part_type_main in part_distributions:\n",
    "        distribution = part_distributions[part_type_main]\n",
    "        part_main = random.choice(list(distribution.keys()), p = [i/sum(list(distribution.values())) for i in list(distribution.values())])\n",
    "        if part_main not in requires[part_type]:\n",
    "            if output:\n",
    "                print('主属性不对, 部件：', part_type, '主属性：', part_main)\n",
    "            return part_type, 0, part_main, None #主属性不对直接放弃\n",
    "\n",
    "    # 确定副属性\n",
    "    # 花和羽毛可直接生成副属性,其他需要删除已有主属性\n",
    "    if part_type == 'flower' or part_type == 'plume':\n",
    "        distribution_sub = part_distributions[part_type + '_sub']\n",
    "    else:\n",
    "        distribution_sub = part_distributions[part_type + '_sub']\n",
    "        distribution_sub.pop(part_main, None)\n",
    "    \n",
    "    part_sub = random.choice(list(distribution_sub.keys()), 4, replace = False, p = [i/sum(list(distribution_sub.values())) for i in list(distribution_sub.values())])\n",
    "    \n",
    "    # 先确定强化次数,初始三强化4次,初始四强化5次\n",
    "    upgrade_times = int(random.choice(list(initial_features.keys()), p = list(initial_features.values())))+1\n",
    "    \n",
    "    # 开始强化\n",
    "    part_upgrade = {i:1 for i in part_sub}\n",
    "    for t in range(upgrade_times):\n",
    "        upgrade_loc = random.choice([0,1,2,3])\n",
    "        part_upgrade[part_sub[upgrade_loc]] += 1\n",
    "    if output:\n",
    "        print('部件：', part_type, '主属性：', part_main, '副属性：' , part_upgrade)\n",
    "    \n",
    "    score = 0\n",
    "    for k in part_upgrade.keys():\n",
    "        score += part_upgrade[k] * sub_attributes_weight[k]\n",
    "    return part_type, score, part_main, part_upgrade"
   ]
  },
  {
   "cell_type": "code",
   "execution_count": 4,
   "metadata": {},
   "outputs": [],
   "source": [
    "# 根据最好的圣遗物和散件重新计算最高词条数\n",
    "def recalculate_score(part_highest_scores):\n",
    "    s1 = exist_flower_score + part_highest_scores['plume'] + part_highest_scores['sand'] + part_highest_scores['goblet'] + part_highest_scores['criclet']\n",
    "    s2 = part_highest_scores['flower'] + exist_plume_score + part_highest_scores['sand'] + part_highest_scores['goblet'] + part_highest_scores['criclet']\n",
    "    s3 = part_highest_scores['flower'] + part_highest_scores['plume'] + exist_sand_score + part_highest_scores['goblet'] + part_highest_scores['criclet']\n",
    "    s4 = part_highest_scores['flower'] + part_highest_scores['plume'] + part_highest_scores['sand'] + exist_goblet_score + part_highest_scores['criclet']\n",
    "    s5 = part_highest_scores['flower'] + part_highest_scores['plume'] + part_highest_scores['sand'] + part_highest_scores['goblet'] + exist_criclet_score\n",
    "    score_list = [s1,s2,s3,s4,s5]\n",
    "    max_value = max(score_list)\n",
    "    return max_value, score_list.index(max_value)\n",
    "\n",
    "# 根据给定目标刷一套圣遗物\n",
    "def single_single_simulate(target, output = False, exist_set_parts = [0,0,0,0,0]):\n",
    "    highest_score = 0 # 目前套装最高词条数\n",
    "    count = 0 # 掉落件数\n",
    "    part_highest_scores = {'flower': exist_set_parts[0], 'plume': exist_set_parts[1], 'sand': exist_set_parts[2], 'goblet': exist_set_parts[3], 'criclet': exist_set_parts[4]}\n",
    "    part_highest_main = {'flower': '', 'plume': '', 'sand': '', 'goblet': '', 'criclet': ''}\n",
    "    part_highest_sub = {'flower': {}, 'plume': {}, 'sand': {}, 'goblet': {}, 'criclet': {}}\n",
    "    while round(highest_score) < target:\n",
    "        count += 1\n",
    "        part_type, score, part_main, part_sub = draw_arifact()\n",
    "        if score > part_highest_scores[part_type]:\n",
    "            part_highest_main[part_type] = part_main\n",
    "            part_highest_sub[part_type] = part_sub\n",
    "            part_highest_scores[part_type] = score\n",
    "            highest_score, singlepart_index = recalculate_score(part_highest_scores)    \n",
    "    if output:\n",
    "        part_highest_main.pop(part_names[singlepart_index])\n",
    "        part_highest_sub.pop(part_names[singlepart_index])\n",
    "        print(\"共刷了\" + str(count) + \"件所需套装圣遗物\")\n",
    "        print(\"散件为\" + part_names[singlepart_index])\n",
    "        print(\"四件套主属性：\", part_highest_main, \"\\n四件套副属性：\", part_highest_sub)\n",
    "        print(\"总词条数：\", highest_score)\n",
    "        \n",
    "    return count, round(highest_score)\n",
    "\n",
    "# 根据给定的目标进行多次模拟取平均\n",
    "def single_simulate(target, run_time, exist_set_parts = [0,0,0,0,0]):\n",
    "    result = []\n",
    "    for i in range(run_time):\n",
    "        count, r_h_score = single_single_simulate(target, exist_set_parts = exist_set_parts)\n",
    "        if r_h_score == target: # 超过目标分数0.5分以上的需要砍掉，否则结果不准确\n",
    "            result.append(count)\n",
    "        #print(count)\n",
    "    return sum(result)/len(result)*cost\n",
    "                \n",
    "\n",
    "# 根据不同目标记录模拟结果\n",
    "def simulation(min_score = 15, max_score = 32, run_time = 1000, exist_set_parts = [0,0,0,0,0]):\n",
    "    result = []\n",
    "    x_labels = []\n",
    "    for i in range(min_score, max_score + 1):\n",
    "        average_cost = single_simulate(i, run_time, exist_set_parts = exist_set_parts)\n",
    "        result.append(average_cost)\n",
    "        x_labels.append(i)\n",
    "        print(\"目标词条数：\", i, \"  平均所需体力：\", average_cost)\n",
    "    \n",
    "    plt.plot(x_labels, result, marker='o', color='r')\n",
    "    plt.xlabel('target number of attributes')\n",
    "    plt.ylabel('average stigma cost')"
   ]
  },
  {
   "cell_type": "markdown",
   "metadata": {},
   "source": [
    "1. 主要功能示例"
   ]
  },
  {
   "cell_type": "code",
   "execution_count": 5,
   "metadata": {},
   "outputs": [
    {
     "name": "stdout",
     "output_type": "stream",
     "text": [
      "目标词条数： 26   平均所需体力： 2218.2094737745692\n",
      "目标词条数： 27   平均所需体力： 4910.14440554449\n",
      "目标词条数： 28   平均所需体力： 7515.99931922427\n",
      "目标词条数： 29   平均所需体力： 12518.788178487148\n",
      "目标词条数： 30   平均所需体力： 17931.021677353194\n"
     ]
    },
    {
     "data": {
      "image/png": "[encoded data removed]",
      "text/plain": [
       "<Figure size 432x288 with 1 Axes>"
      ]
     },
     "metadata": {
      "needs_background": "light"
     },
     "output_type": "display_data"
    }
   ],
   "source": [
    "# 玩家定义参数 -- 需要编辑\n",
    "\n",
    "# 已有相应散件圣遗物词条数，用4件套的前提下，萌新需适当降低。\n",
    "exist_flower_score = 7\n",
    "exist_plume_score = 7\n",
    "exist_sand_score = 6\n",
    "exist_goblet_score = 5\n",
    "exist_criclet_score = 4\n",
    "\n",
    "# 副词条配比，根据自己需要调整，无统一标准，暴击率、暴击伤害一般都算1，其他可计算可估算\n",
    "sub_attributes_weight = {'hp': 0, 'atk': 0.3, 'def': 0, 'hp_per': 0, 'atk_per': 1, 'def_per':0, \n",
    "              'energy_recharge': 0, 'ele_mastery': 0.5, 'crit_rate': 1, 'crit_dmg': 1}\n",
    "\n",
    "# 主属性需求\n",
    "sand_require = set(['atk_per'])\n",
    "goblet_require = set(['ele_dmg'])\n",
    "criclet_require = set(['crit_dmg'])\n",
    "requires = {'sand': sand_require, 'goblet': goblet_require, 'criclet': criclet_require}\n",
    "\n",
    "# 模拟1000次刷圣遗物所需体力 \n",
    "# exist_set_parts为已有套装圣遗物词条分数 (e.g.[花，羽毛，沙漏，杯，头]=[6,6,3,3,4])，默认为全0\n",
    "# 当前我的圣遗物已经达到25词条，因此从26开始\n",
    "simulation(min_score = 26, max_score = 30, exist_set_parts=[6,6,3,3,4])"
   ]
  },
  {
   "cell_type": "code",
   "execution_count": null,
   "metadata": {},
   "outputs": [],
   "source": []
  },
  {
   "cell_type": "code",
   "execution_count": null,
   "metadata": {},
   "outputs": [],
   "source": []
  },
  {
   "cell_type": "code",
   "execution_count": null,
   "metadata": {},
   "outputs": [],
   "source": []
  },
  {
   "cell_type": "markdown",
   "metadata": {},
   "source": [
    "2. 娱乐以及子函数功能"
   ]
  },
  {
   "cell_type": "code",
   "execution_count": 6,
   "metadata": {},
   "outputs": [],
   "source": [
    "# 玩家定义参数 -- 需要编辑\n",
    "\n",
    "# 已有相应散件圣遗物词条数，用4件套的前提下，萌新需适当降低。\n",
    "exist_flower_score = 7\n",
    "exist_plume_score = 7\n",
    "exist_sand_score = 6\n",
    "exist_goblet_score = 5\n",
    "exist_criclet_score = 4\n",
    "\n",
    "# 副词条配比，根据自己需要调整，无统一标准，暴击率、暴击伤害一般都算1，其他可计算可估算\n",
    "sub_attributes_weight = {'hp': 0, 'atk': 0.3, 'def': 0, 'hp_per': 0, 'atk_per': 1, 'def_per':0, \n",
    "              'energy_recharge': 0, 'ele_mastery': 0.5, 'crit_rate': 1, 'crit_dmg': 1}\n",
    "\n",
    "# 主属性需求\n",
    "sand_require = set(['atk_per'])\n",
    "goblet_require = set(['ele_dmg'])\n",
    "criclet_require = set(['crit_dmg'])\n",
    "requires = {'sand': sand_require, 'goblet': goblet_require, 'criclet': criclet_require}"
   ]
  },
  {
   "cell_type": "code",
   "execution_count": 7,
   "metadata": {},
   "outputs": [
    {
     "name": "stdout",
     "output_type": "stream",
     "text": [
      "共刷了570件所需套装圣遗物\n",
      "散件为goblet\n",
      "四件套主属性： {'flower': 'default', 'plume': '', 'sand': 'atk_per', 'criclet': 'crit_dmg'} \n",
      "四件套副属性： {'flower': {'atk_per': 2, 'atk': 1, 'crit_rate': 3, 'crit_dmg': 2}, 'plume': {}, 'sand': {'energy_recharge': 2, 'def': 1, 'crit_dmg': 2, 'crit_rate': 4}, 'criclet': {'def_per': 1, 'def': 1, 'crit_rate': 2, 'atk_per': 4}}\n",
      "总词条数： 30.3\n"
     ]
    },
    {
     "data": {
      "text/plain": [
       "(570, 30)"
      ]
     },
     "execution_count": 7,
     "metadata": {},
     "output_type": "execute_result"
    }
   ],
   "source": [
    "# 模拟刷一套圣遗物, 娱乐向\n",
    "single_single_simulate(30, output=True, exist_set_parts=[6,6,3,3,4])"
   ]
  },
  {
   "cell_type": "code",
   "execution_count": 8,
   "metadata": {},
   "outputs": [
    {
     "name": "stdout",
     "output_type": "stream",
     "text": [
      "所需体力期望： 18689.371383901966\n"
     ]
    }
   ],
   "source": [
    "# 所需体力期望, 自己设定目标，模拟次数\n",
    "print(\"所需体力期望：\", single_simulate(30, 1000, exist_set_parts=[6,6,3,3,4]))"
   ]
  },
  {
   "cell_type": "code",
   "execution_count": null,
   "metadata": {},
   "outputs": [],
   "source": []
  },
  {
   "cell_type": "code",
   "execution_count": null,
   "metadata": {},
   "outputs": [],
   "source": []
  },
  {
   "cell_type": "code",
   "execution_count": null,
   "metadata": {},
   "outputs": [],
   "source": []
  },
  {
   "cell_type": "markdown",
   "metadata": {},
   "source": [
    "3. 从0开始刷结果示例两个"
   ]
  },
  {
   "cell_type": "code",
   "execution_count": 8,
   "metadata": {},
   "outputs": [
    {
     "name": "stdout",
     "output_type": "stream",
     "text": [
      "目标词条数： 15   平均所需体力： 502.0138249053818\n",
      "目标词条数： 16   平均所需体力： 607.9217345662172\n",
      "目标词条数： 17   平均所需体力： 765.6234972492985\n",
      "目标词条数： 18   平均所需体力： 922.336525028728\n",
      "目标词条数： 19   平均所需体力： 1180.252815813635\n",
      "目标词条数： 20   平均所需体力： 1378.1129481079604\n",
      "目标词条数： 21   平均所需体力： 1753.9402101535875\n",
      "目标词条数： 22   平均所需体力： 2114.2100852917433\n",
      "目标词条数： 23   平均所需体力： 2749.63817022254\n",
      "目标词条数： 24   平均所需体力： 3314.1922723345865\n",
      "目标词条数： 25   平均所需体力： 4614.044565954943\n",
      "目标词条数： 26   平均所需体力： 5645.040011258067\n",
      "目标词条数： 27   平均所需体力： 8258.436840993036\n",
      "目标词条数： 28   平均所需体力： 11558.030458951862\n",
      "目标词条数： 29   平均所需体力： 17666.91035469047\n",
      "目标词条数： 30   平均所需体力： 25884.18042632121\n",
      "目标词条数： 31   平均所需体力： 44693.69433775463\n",
      "目标词条数： 32   平均所需体力： 70150.01267237638\n"
     ]
    },
    {
     "data": {
      "image/png": "[encoded data removed]",
      "text/plain": [
       "<Figure size 432x288 with 1 Axes>"
      ]
     },
     "metadata": {
      "needs_background": "light"
     },
     "output_type": "display_data"
    }
   ],
   "source": [
    "# 优菈\n",
    "\n",
    "# 玩家定义参数 -- 需要编辑\n",
    "\n",
    "# 已有相应散件圣遗物词条数，用4件套的前提下，萌新需适当降低。\n",
    "exist_flower_score = 7\n",
    "exist_plume_score = 7\n",
    "exist_sand_score = 4\n",
    "exist_goblet_score = 5\n",
    "exist_criclet_score = 4\n",
    "\n",
    "# 副词条配比，根据自己需要调整，无统一标准，暴击率、暴击伤害一般都算1，其他可计算可估算\n",
    "sub_attributes_weight = {'hp': 0, 'atk': 0.3, 'def': 0, 'hp_per': 0, 'atk_per': 1, 'def_per':0, \n",
    "              'energy_recharge': 0.5, 'ele_mastery': 0, 'crit_rate': 1, 'crit_dmg': 1}\n",
    "\n",
    "# 主属性需求\n",
    "sand_require = set(['atk_per'])\n",
    "goblet_require = set(['ele_dmg'])\n",
    "criclet_require = set(['crit_rate', 'crit_dmg'])\n",
    "requires = {'sand': sand_require, 'goblet': goblet_require, 'criclet': criclet_require}\n",
    "\n",
    "# 模拟1000次刷圣遗物所需体力 \n",
    "simulation()"
   ]
  },
  {
   "cell_type": "code",
   "execution_count": null,
   "metadata": {},
   "outputs": [
    {
     "name": "stdout",
     "output_type": "stream",
     "text": [
      "目标词条数： 15   平均所需体力： 279.13385321170495\n",
      "目标词条数： 16   平均所需体力： 341.78570049902163\n",
      "目标词条数： 17   平均所需体力： 414.2958185011612\n",
      "目标词条数： 18   平均所需体力： 484.17673559399395\n",
      "目标词条数： 19   平均所需体力： 568.266585553614\n",
      "目标词条数： 20   平均所需体力： 671.6995323565321\n",
      "目标词条数： 21   平均所需体力： 804.1704407889316\n",
      "目标词条数： 22   平均所需体力： 901.3098775839975\n",
      "目标词条数： 23   平均所需体力： 1112.1602479645662\n",
      "目标词条数： 24   平均所需体力： 1375.9991230057021\n",
      "目标词条数： 25   平均所需体力： 1687.6358312132998\n",
      "目标词条数： 26   平均所需体力： 2050.0717873408903\n",
      "目标词条数： 27   平均所需体力： 2587.431763827125\n",
      "目标词条数： 28   平均所需体力： 3282.940592113366\n",
      "目标词条数： 29   平均所需体力： 4471.456569025433\n",
      "目标词条数： 30   平均所需体力： 6187.651003569222\n",
      "目标词条数： 31   平均所需体力： 8956.164077386233\n",
      "目标词条数： 32   平均所需体力： 12621.383525922753\n",
      "目标词条数： 33   平均所需体力： 20771.56444071393\n",
      "目标词条数： 34   平均所需体力： 32056.696499534974\n"
     ]
    }
   ],
   "source": [
    "# 胡桃\n",
    "\n",
    "# 玩家定义参数 -- 需要编辑\n",
    "\n",
    "# 已有相应散件圣遗物词条数，用4件套的前提下，萌新需适当降低。\n",
    "exist_flower_score = 7\n",
    "exist_plume_score = 7\n",
    "exist_sand_score = 4\n",
    "exist_goblet_score = 5\n",
    "exist_criclet_score = 4\n",
    "\n",
    "# 副词条配比，根据自己需要调整，无统一标准，暴击率、暴击伤害一般都算1，其他可计算可估算\n",
    "sub_attributes_weight = {'hp': 0.3, 'atk': 0.3, 'def': 0, 'hp_per': 1, 'atk_per': 0.5, 'def_per':0, \n",
    "              'energy_recharge': 0, 'ele_mastery': 1, 'crit_rate': 1, 'crit_dmg': 1}\n",
    "\n",
    "# 主属性需求\n",
    "sand_require = set(['hp_per', 'ele_mastery'])\n",
    "goblet_require = set(['ele_dmg'])\n",
    "criclet_require = set(['crit_rate', 'crit_dmg'])\n",
    "requires = {'sand': sand_require, 'goblet': goblet_require, 'criclet': criclet_require}\n",
    "\n",
    "\n",
    "# 模拟1000次刷圣遗物所需体力\n",
    "simulation(max_score = 35)"
   ]
  },
  {
   "cell_type": "code",
   "execution_count": null,
   "metadata": {},
   "outputs": [],
   "source": []
  }
 ],
 "metadata": {
  "kernelspec": {
   "display_name": "Python 3",
   "language": "python",
   "name": "python3"
  },
  "language_info": {
   "codemirror_mode": {
    "name": "ipython",
    "version": 3
   },
   "file_extension": ".py",
   "mimetype": "text/x-python",
   "name": "python",
   "nbconvert_exporter": "python",
   "pygments_lexer": "ipython3",
   "version": "3.8.1"
  }
 },
 "nbformat": 4,
 "nbformat_minor": 4
}
